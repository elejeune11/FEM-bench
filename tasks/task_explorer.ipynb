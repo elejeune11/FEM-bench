{
 "cells": [
  {
   "cell_type": "code",
   "execution_count": 3,
   "metadata": {},
   "outputs": [],
   "source": [
    "import element_stiffness_linear_elastic_1D as es1D\n"
   ]
  },
  {
   "cell_type": "code",
   "execution_count": 4,
   "metadata": {},
   "outputs": [
    {
     "name": "stdout",
     "output_type": "stream",
     "text": [
      "Test passed!\n"
     ]
    }
   ],
   "source": [
    "fcn = es1D.element_stiffness_linear_elastic_1D\n",
    "\n",
    "try:\n",
    "    es1D.test_element_stiffness_comprehensive(fcn)\n",
    "    print(\"Test passed!\")\n",
    "except AssertionError as e:\n",
    "    print(\"Test failed:\")\n",
    "    print(e)"
   ]
  },
  {
   "cell_type": "code",
   "execution_count": 5,
   "metadata": {},
   "outputs": [],
   "source": [
    "import numpy as np\n",
    "\n",
    "\n",
    "def gauss_quadrature_1D(n: int) -> tuple[np.ndarray, np.ndarray]:\n",
    "    \"\"\"\n",
    "    Return Gauss points and weights for 1D quadrature over [-1, 1].\n",
    "\n",
    "    Parameters:\n",
    "        n (int): Number of Gauss points (1, 2, or 3 recommended)\n",
    "\n",
    "    Returns:\n",
    "        tuple[np.ndarray, np.ndarray]: (points, weights)\n",
    "    \"\"\"\n",
    "    if n == 1:\n",
    "        points = np.array([0.0])\n",
    "        weights = np.array([2.0])\n",
    "    elif n == 2:\n",
    "        sqrt_3_inv = 1.0 / np.sqrt(3)\n",
    "        points = np.array([-sqrt_3_inv, sqrt_3_inv])\n",
    "        weights = np.array([1.0, 1.0])\n",
    "    elif n == 3:\n",
    "        points = np.array([\n",
    "            -np.sqrt(3/5), 0.0, np.sqrt(3/5)\n",
    "        ])\n",
    "        weights = np.array([\n",
    "            5/9, 8/9, 5/9\n",
    "        ])\n",
    "    else:\n",
    "        raise ValueError(\"Only 1 to 3 Gauss points are supported.\")\n",
    "    \n",
    "    return points, weights\n",
    "\n",
    "\n",
    "def shape_function_derivatives_1D_linear() -> np.ndarray:\n",
    "    \"\"\"\n",
    "    Return constant derivatives of 1D linear shape functions w.r.t. ξ.\n",
    "\n",
    "    Returns:\n",
    "        np.ndarray: Derivatives [dN1/dξ, dN2/dξ]\n",
    "    \"\"\"\n",
    "    return np.array([\n",
    "        -0.5,\n",
    "        0.5\n",
    "    ])\n",
    "\n",
    "\n",
    "def compute_jacobian_1D(dN_dxi: np.ndarray, x_elem: np.ndarray) -> float:\n",
    "    \"\"\"\n",
    "    Compute the Jacobian for 1D isoparametric mapping.\n",
    "\n",
    "    Parameters:\n",
    "        dN_dxi (np.ndarray): Shape function derivatives w.r.t. ξ\n",
    "        x_elem (np.ndarray): Nodal coordinates of the current element [x1, x2]\n",
    "\n",
    "    Returns:\n",
    "        float: Jacobian dx/dξ\n",
    "    \"\"\"\n",
    "    return np.dot(dN_dxi, x_elem)\n",
    "\n",
    "def element_stiffness_linear_elastic_1D(x_elem: np.ndarray, E: float, A: float, n_gauss: int) -> np.ndarray:\n",
    "   \"\"\"\n",
    "   Compute the element stiffness matrix for a 1D linear bar using the Galerkin method.\n",
    "\n",
    "   Parameters:\n",
    "       x_elem (np.ndarray): Nodal coordinates of the element [x1, x2]\n",
    "       E (float): Young's modulus\n",
    "       A (float): Cross-sectional area\n",
    "       n_gauss (int): Number of Gauss integration points (default = 2)\n",
    "\n",
    "   Returns:\n",
    "       np.ndarray: 2x2 element stiffness matrix\n",
    "   \"\"\"\n",
    "   points, weights = gauss_quadrature_1D(n_gauss)\n",
    "   dN_dxi = shape_function_derivatives_1D_linear()\n",
    "   \n",
    "   K = np.zeros((2, 2))\n",
    "   \n",
    "   for i in range(len(points)):\n",
    "       J = compute_jacobian_1D(dN_dxi, x_elem)\n",
    "       dN_dx = dN_dxi / J\n",
    "       \n",
    "       B = dN_dx.reshape(1, -1)\n",
    "       K += E * A * np.dot(B.T, B) * weights[i] * J\n",
    "   \n",
    "   return K"
   ]
  },
  {
   "cell_type": "code",
   "execution_count": 6,
   "metadata": {},
   "outputs": [
    {
     "name": "stdout",
     "output_type": "stream",
     "text": [
      "Test passed!\n"
     ]
    }
   ],
   "source": [
    "fcn = element_stiffness_linear_elastic_1D\n",
    "\n",
    "try:\n",
    "    es1D.test_element_stiffness_comprehensive(fcn)\n",
    "    print(\"Test passed!\")\n",
    "except AssertionError as e:\n",
    "    print(\"Test failed:\")\n",
    "    print(e)\n"
   ]
  },
  {
   "cell_type": "code",
   "execution_count": 23,
   "metadata": {},
   "outputs": [],
   "source": [
    "def test_element_stiffness_comprehensive(fcn):\n",
    "    \"\"\"Verify the correctness and robustness of the 1D linear elastic element stiffness matrix.\n",
    "\n",
    "    This test checks the following properties of the stiffness matrix computed by\n",
    "    `element_stiffness_linear_elastic_1D` for a two-node linear element:\n",
    "\n",
    "    1. Analytical correctness:\n",
    "        - For an element of length L with modulus E and area A, the stiffness matrix should match:\n",
    "          (EA/L) * [[1, -1], [-1, 1]]\n",
    "\n",
    "    2. Shape and symmetry:\n",
    "        - The stiffness matrix must be 2x2 and symmetric.\n",
    "\n",
    "    3. Singularity:\n",
    "        - The matrix should be singular (zero determinant) for an unconstrained single element,\n",
    "          reflecting rigid body motion.\n",
    "\n",
    "    4. Integration consistency:\n",
    "        - The result must be identical (within numerical tolerance) for 1-, 2-, and 3-point\n",
    "          Gauss quadrature rules when applied to linear elements, since exact integration is achieved.\n",
    "    \"\"\"\n",
    "    # Test parameters\n",
    "    x_elem = np.array([0.0, 2.0])\n",
    "    E = 200e9  # Young's modulus in Pa\n",
    "    A = 0.01   # Cross-sectional area in m^2\n",
    "    L = x_elem[1] - x_elem[0]  # Element length\n",
    "    \n",
    "    # Compute stiffness matrix with default Gauss points\n",
    "    K = fcn(x_elem, E, A, 2)\n",
    "    \n",
    "    # 1. Test shape\n",
    "    assert K.shape == (2, 2), f\"Expected shape (2, 2), got {K.shape}\"\n",
    "    \n",
    "    # 2. Test symmetry\n",
    "    assert np.allclose(K, K.T), \"Stiffness matrix must be symmetric\"\n",
    "    \n",
    "    # 3. Test analytical correctness\n",
    "    K_analytical = (E * A / L) * np.array([[1, -1], [-1, 1]])\n",
    "    assert np.allclose(K, K_analytical), \"Stiffness matrix does not match analytical solution\"\n",
    "    \n",
    "    # 4. Test singularity (zero determinant for unconstrained element)\n",
    "    det_K = np.linalg.det(K)\n",
    "    assert abs(det_K) < 1e-10, f\"Stiffness matrix should be singular, determinant = {det_K}\"\n",
    "    \n",
    "    # 5. Test integration consistency across different Gauss point counts\n",
    "    K_1gauss = fcn(x_elem, E, A, 1)\n",
    "    K_2gauss = fcn(x_elem, E, A, 2)\n",
    "    K_3gauss = fcn(x_elem, E, A, 3)\n",
    "    \n",
    "    assert np.allclose(K_1gauss, K_2gauss), \"1-point and 2-point Gauss integration should give identical results\"\n",
    "    assert np.allclose(K_2gauss, K_3gauss), \"2-point and 3-point Gauss integration should give identical results\"\n",
    "    \n",
    "    # 6. Test with different element lengths\n",
    "    x_elem_short = np.array([1.0, 1.5])\n",
    "    L_short = x_elem_short[1] - x_elem_short[0]\n",
    "    K_short = fcn(x_elem_short, E, A, 2)\n",
    "    K_short_analytical = (E * A / L_short) * np.array([[1, -1], [-1, 1]])\n",
    "    assert np.allclose(K_short, K_short_analytical), \"Stiffness matrix incorrect for different element length\"\n",
    "    \n",
    "    # 7. Test with different material properties\n",
    "    E_steel = 210e9\n",
    "    A_large = 0.02\n",
    "    K_steel = fcn(x_elem, E_steel, A_large, 2)\n",
    "    K_steel_analytical = (E_steel * A_large / L) * np.array([[1, -1], [-1, 1]])\n",
    "    assert np.allclose(K_steel, K_steel_analytical), \"Stiffness matrix incorrect for different material properties\"\n",
    "    \n",
    "    # 8. Test positive definiteness properties\n",
    "    eigenvals = np.linalg.eigvals(K)\n",
    "    eigenvals_sorted = np.sort(eigenvals)\n",
    "    print(eigenvals_sorted[0])\n",
    "    print(K)\n",
    "    assert abs(eigenvals_sorted[0]) < 1e-10, \"First eigenvalue should be zero (rigid body mode)\"\n",
    "    assert eigenvals_sorted[1] > 0, \"Second eigenvalue should be positive\"\n",
    "    \n",
    "    # 9. Test row sum property (equilibrium condition)\n",
    "    row_sums = np.sum(K, axis=1)\n",
    "    assert np.allclose(row_sums, 0), \"Row sums should be zero for equilibrium\"\n",
    "    \n",
    "    # 10. Test column sum property (equilibrium condition)\n",
    "    col_sums = np.sum(K, axis=0)\n",
    "    assert np.allclose(col_sums, 0), \"Column sums should be zero for equilibrium\""
   ]
  },
  {
   "cell_type": "code",
   "execution_count": 24,
   "metadata": {},
   "outputs": [
    {
     "name": "stdout",
     "output_type": "stream",
     "text": [
      "-2.220446049250313e-07\n",
      "[[ 1.e+09 -1.e+09]\n",
      " [-1.e+09  1.e+09]]\n",
      "Test failed:\n",
      "First eigenvalue should be zero (rigid body mode)\n"
     ]
    }
   ],
   "source": [
    "fcn = es1D.element_stiffness_linear_elastic_1D\n",
    "\n",
    "try:\n",
    "    test_element_stiffness_comprehensive(fcn)\n",
    "    print(\"Test passed!\")\n",
    "except AssertionError as e:\n",
    "    print(\"Test failed:\")\n",
    "    print(e)"
   ]
  },
  {
   "cell_type": "code",
   "execution_count": 17,
   "metadata": {},
   "outputs": [],
   "source": [
    "def test_element_stiffness_comprehensive(fcn):\n",
    "    \"\"\"\n",
    "    Verify the correctness and robustness of the 1D linear elastic element stiffness matrix.\n",
    "    \"\"\"\n",
    "    x_elem = np.array([0.0, 1.0])\n",
    "    E = 210000000000.0\n",
    "    A = 0.01\n",
    "    L = x_elem[1] - x_elem[0]\n",
    "    expected_stiffness = E * A / L * np.array([[1, -1], [-1, 1]])\n",
    "    tolerance = 1e-09\n",
    "    for n_gauss in [1, 2, 3]:\n",
    "        stiffness_matrix = fcn(x_elem, E, A, n_gauss)\n",
    "        assert np.allclose(stiffness_matrix, expected_stiffness, atol=tolerance), f'Stiffness matrix incorrect for n_gauss={n_gauss}'\n",
    "        assert stiffness_matrix.shape == (2, 2), 'Stiffness matrix is not 2x2'\n",
    "        assert np.allclose(stiffness_matrix, stiffness_matrix.T, atol=tolerance), 'Stiffness matrix is not symmetric'\n",
    "        assert np.isclose(np.linalg.det(stiffness_matrix), 0, atol=tolerance), 'Stiffness matrix is not singular'"
   ]
  },
  {
   "cell_type": "code",
   "execution_count": 18,
   "metadata": {},
   "outputs": [
    {
     "name": "stdout",
     "output_type": "stream",
     "text": [
      "Test passed!\n"
     ]
    }
   ],
   "source": [
    "fcn = es1D.element_stiffness_linear_elastic_1D\n",
    "\n",
    "try:\n",
    "    test_element_stiffness_comprehensive(fcn)\n",
    "    print(\"Test passed!\")\n",
    "except AssertionError as e:\n",
    "    print(\"Test failed:\")\n",
    "    print(e)"
   ]
  },
  {
   "cell_type": "code",
   "execution_count": 21,
   "metadata": {},
   "outputs": [],
   "source": [
    "def test_element_stiffness_comprehensive(fcn):\n",
    "    \"\"\"\n",
    "    Verify the correctness and robustness of the 1D linear elastic element stiffness matrix.\n",
    "    This test checks the following properties of the stiffness matrix computed by\n",
    "    `element_stiffness_linear_elastic_1D` for a two-node linear element:\n",
    "    1. Analytical correctness:\n",
    "          (EA/L) * [[1, -1], [-1, 1]]\n",
    "    2. Shape and symmetry:\n",
    "    3. Singularity:\n",
    "          reflecting rigid body motion.\n",
    "    4. Integration consistency:\n",
    "          Gauss quadrature rules when applied to linear elements, since exact integration is achieved.\n",
    "    \"\"\"\n",
    "    x_elem = np.array([0.0, 1.0])\n",
    "    E = 2.0\n",
    "    A = 3.0\n",
    "    L = x_elem[1] - x_elem[0]\n",
    "    expected_matrix = E * A / L * np.array([[1, -1], [-1, 1]])\n",
    "    computed_matrix = fcn(x_elem, E, A, n_gauss=2)\n",
    "    print(computed_matrix)\n",
    "    np.testing.assert_allclose(computed_matrix, expected_matrix, rtol=1e-10)\n",
    "    assert computed_matrix.shape == (2, 2)\n",
    "    np.testing.assert_allclose(computed_matrix, computed_matrix.T, rtol=1e-10)\n",
    "    assert np.linalg.det(computed_matrix) < 1e-10\n",
    "    matrix_1pt = fcn(x_elem, E, A, n_gauss=1)\n",
    "    matrix_2pt = fcn(x_elem, E, A, n_gauss=2)\n",
    "    matrix_3pt = fcn(x_elem, E, A, n_gauss=3)\n",
    "    np.testing.assert_allclose(matrix_1pt, matrix_2pt, rtol=1e-10)\n",
    "    np.testing.assert_allclose(matrix_1pt, matrix_3pt, rtol=1e-10)"
   ]
  },
  {
   "cell_type": "code",
   "execution_count": 22,
   "metadata": {},
   "outputs": [
    {
     "name": "stdout",
     "output_type": "stream",
     "text": [
      "[[ 6. -6.]\n",
      " [-6.  6.]]\n",
      "Test passed!\n"
     ]
    }
   ],
   "source": [
    "fcn = es1D.element_stiffness_linear_elastic_1D\n",
    "\n",
    "try:\n",
    "    test_element_stiffness_comprehensive(fcn)\n",
    "    print(\"Test passed!\")\n",
    "except AssertionError as e:\n",
    "    print(\"Test failed:\")\n",
    "    print(e)"
   ]
  },
  {
   "cell_type": "code",
   "execution_count": null,
   "metadata": {},
   "outputs": [],
   "source": []
  }
 ],
 "metadata": {
  "kernelspec": {
   "display_name": "fem_bench_env",
   "language": "python",
   "name": "python3"
  },
  "language_info": {
   "codemirror_mode": {
    "name": "ipython",
    "version": 3
   },
   "file_extension": ".py",
   "mimetype": "text/x-python",
   "name": "python",
   "nbconvert_exporter": "python",
   "pygments_lexer": "ipython3",
   "version": "3.10.11"
  },
  "orig_nbformat": 4
 },
 "nbformat": 4,
 "nbformat_minor": 2
}
